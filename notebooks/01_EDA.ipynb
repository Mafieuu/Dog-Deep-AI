{
 "cells": [
  {
   "cell_type": "markdown",
   "metadata": {},
   "source": [
    "# Exploration et Analyse des Données (EDA)\n",
    "\n",
    "Chargement des données brutes, visualisation, statistiques descriptives, identification des problèmes potentiels (qualité, distribution).\n",
    "\n",
    "---"
   ]
  },
  {
   "cell_type": "markdown",
   "id": "af1e4475",
   "metadata": {},
   "source": [
    "**TABLE DES MATIERES**\n",
    "\n",
    "1. #### [Introduction](#int)\n",
    "2. #### [Import des modules Python](#imp_mod_pyt)\n",
    "3. #### [Aperçu Général du Dataset](#aperçu-général-du-dataset)\n",
    "4. #### [Analyse Détaillée des Images](#analyse-détaillée-des-images)\n",
    "---\n"
   ]
  },
  {
   "cell_type": "markdown",
   "id": "02a61b3c",
   "metadata": {},
   "source": [
    "1. ### [Introduction](#int)\n",
    "Ce projet machin machin macin\n",
    ">Il s'agira alors de machin machin"
   ]
  },
  {
   "cell_type": "markdown",
   "id": "13989ee8",
   "metadata": {},
   "source": [
    " 2. ### [Import des modules Python](#imp_mod_pyt)"
   ]
  },
  {
   "cell_type": "code",
   "execution_count": null,
   "metadata": {},
   "outputs": [],
   "source": [
    "import numpy as np\n",
    "import pandas as pd\n",
    "import matplotlib.pyplot as plt\n"
   ]
  }
 ],
 "metadata": {
  "kernelspec": {
   "display_name": "Python 3 (ipykernel)",
   "language": "python",
   "name": "python3"
  },
  "language_info": {
   "codemirror_mode": {
    "name": "ipython",
    "version": 3
   },
   "file_extension": ".py",
   "mimetype": "text/x-python",
   "name": "python",
   "nbconvert_exporter": "python",
   "pygments_lexer": "ipython3",
   "version": "3.9.12"
  }
 },
 "nbformat": 4,
 "nbformat_minor": 5
}
