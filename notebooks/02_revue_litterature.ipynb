{
 "cells": [
  {
   "cell_type": "markdown",
   "metadata": {},
   "source": [
    "# Revu de la litterature\n",
    "\n",
    "Dans ce notebook, nous présentons les principales conclusions tirées de nos différentes lectures sur la classification fine d’images. Nous analysons les approches existantes, les défis rencontrés et examinons la possibilité d'en tirer bénéfice  \n",
    "\n",
    "---"
   ]
  },
  {
   "cell_type": "markdown",
   "id": "02a61b3c",
   "metadata": {},
   "source": [
    " # 1. Les reférences\n",
    "Ce projet machin machin macin\n",
    ">Il s'agira alors de machin machin"
   ]
  },
  {
   "cell_type": "markdown",
   "id": "9c004061",
   "metadata": {},
   "source": [
    "# 2. xxxxx"
   ]
  },
  {
   "cell_type": "markdown",
   "id": "5a9704a7",
   "metadata": {},
   "source": []
  }
 ],
 "metadata": {
  "kernelspec": {
   "display_name": "env_ML2",
   "language": "python",
   "name": "python3"
  },
  "language_info": {
   "codemirror_mode": {
    "name": "ipython",
    "version": 3
   },
   "file_extension": ".py",
   "mimetype": "text/x-python",
   "name": "python",
   "nbconvert_exporter": "python",
   "pygments_lexer": "ipython3",
   "version": "3.13.3"
  }
 },
 "nbformat": 4,
 "nbformat_minor": 5
}
